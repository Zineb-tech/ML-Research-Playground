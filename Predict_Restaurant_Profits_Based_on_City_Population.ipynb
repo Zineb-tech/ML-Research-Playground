{
  "nbformat": 4,
  "nbformat_minor": 0,
  "metadata": {
    "colab": {
      "provenance": [],
      "authorship_tag": "ABX9TyNF8UQ3FCI/SSYdpdRKz29b",
      "include_colab_link": true
    },
    "kernelspec": {
      "name": "python3",
      "display_name": "Python 3"
    },
    "language_info": {
      "name": "python"
    }
  },
  "cells": [
    {
      "cell_type": "markdown",
      "metadata": {
        "id": "view-in-github",
        "colab_type": "text"
      },
      "source": [
        "<a href=\"https://colab.research.google.com/github/Zineb-tech/ML-Research-Playground/blob/main/Predict_Restaurant_Profits_Based_on_City_Population.ipynb\" target=\"_parent\"><img src=\"https://colab.research.google.com/assets/colab-badge.svg\" alt=\"Open In Colab\"/></a>"
      ]
    },
    {
      "cell_type": "markdown",
      "source": [
        "**Find the cities where business is set to boom, based on population size**"
      ],
      "metadata": {
        "id": "TupzBKST0d7q"
      }
    },
    {
      "cell_type": "code",
      "execution_count": 26,
      "metadata": {
        "id": "wHzRcZQOh5qF"
      },
      "outputs": [],
      "source": [
        "import numpy as np\n",
        "import matplotlib.pyplot as plt\n",
        "\n"
      ]
    },
    {
      "cell_type": "code",
      "source": [
        "def load_data():\n",
        "  data= np.loadtxt(\"data1.txt\", delimiter=',')\n",
        "  X=data[:,0]\n",
        "  Y=data[:,1]\n",
        "  return X,Y"
      ],
      "metadata": {
        "id": "NuyoRuaC6uk_"
      },
      "execution_count": 6,
      "outputs": []
    },
    {
      "cell_type": "markdown",
      "source": [
        "x_train is the population of a city.\n",
        "\n",
        "y_train is the profit of a restaurant in that city. A negative value for profit indicates a loss.\n"
      ],
      "metadata": {
        "id": "4Eou4_KhytQF"
      }
    },
    {
      "cell_type": "code",
      "source": [
        "x_train , y_train = load_data();\n"
      ],
      "metadata": {
        "id": "d9p-fifS3xdG"
      },
      "execution_count": 7,
      "outputs": []
    },
    {
      "cell_type": "markdown",
      "source": [
        " Print out each variable and see what it contains"
      ],
      "metadata": {
        "id": "PnoC-nxm18Ti"
      }
    },
    {
      "cell_type": "code",
      "source": [
        "print('Type of x_train',type(x_train))\n",
        "print('First five elements of x_train are',x_train[:5])"
      ],
      "metadata": {
        "colab": {
          "base_uri": "https://localhost:8080/"
        },
        "id": "Rs9jASLUoO9B",
        "outputId": "7ba173d9-3e90-4b36-dc1c-a60dc08f8001"
      },
      "execution_count": 17,
      "outputs": [
        {
          "output_type": "stream",
          "name": "stdout",
          "text": [
            "<class 'numpy.ndarray'>\n",
            "[6.1101 5.5277 8.5186 7.0032 5.8598]\n"
          ]
        }
      ]
    },
    {
      "cell_type": "code",
      "source": [
        "print('Type of y_train',type(y_train))\n",
        "print('First five elements of y_train are',y_train[:5])"
      ],
      "metadata": {
        "colab": {
          "base_uri": "https://localhost:8080/"
        },
        "id": "hEhm3_ybutzh",
        "outputId": "7c3a2af8-132d-4785-e0c1-c16289c9cec3"
      },
      "execution_count": 18,
      "outputs": [
        {
          "output_type": "stream",
          "name": "stdout",
          "text": [
            "Type of y_train <class 'numpy.ndarray'>\n",
            "First five elements of y_train are [17.592   9.1302 13.662  11.854   6.8233]\n"
          ]
        }
      ]
    },
    {
      "cell_type": "markdown",
      "source": [
        "Checking the shape of variables\n"
      ],
      "metadata": {
        "id": "x-dWDuzRzkVy"
      }
    },
    {
      "cell_type": "code",
      "source": [
        "print ('The shape of x_train',x_train.shape)\n",
        "print ('The shape of y_train',y_train.shape)\n",
        "print('number of training examples is', len(x_train))"
      ],
      "metadata": {
        "colab": {
          "base_uri": "https://localhost:8080/"
        },
        "id": "hHWyTE7Ovc0p",
        "outputId": "362c77cc-8124-4635-e72b-11247cdfe842"
      },
      "execution_count": 25,
      "outputs": [
        {
          "output_type": "stream",
          "name": "stdout",
          "text": [
            "The shape of x_train (97,)\n",
            "The shape of y_train (97,)\n",
            "number of training examples is 97\n"
          ]
        }
      ]
    },
    {
      "cell_type": "markdown",
      "source": [
        "The dataset is clean with no missing values."
      ],
      "metadata": {
        "id": "einlHSGFz4SC"
      }
    },
    {
      "cell_type": "markdown",
      "source": [
        " Let’s go ahead and plot (scatter plot)  data to get visualization.\n"
      ],
      "metadata": {
        "id": "8qlWLV--0si5"
      }
    },
    {
      "cell_type": "code",
      "source": [
        "plt.scatter(x_train,y_train,marker='x')\n",
        "plt.title('City Population vs Profit')\n",
        "plt.xlabel('Population city  *10 000')\n",
        "plt.ylabel('Profit in 10 000$')"
      ],
      "metadata": {
        "colab": {
          "base_uri": "https://localhost:8080/",
          "height": 489
        },
        "id": "KiL2kvnAyRRK",
        "outputId": "5363899d-95d7-4cb7-b345-591a80216379"
      },
      "execution_count": 94,
      "outputs": [
        {
          "output_type": "execute_result",
          "data": {
            "text/plain": [
              "Text(0, 0.5, 'Profit in 10 000$')"
            ]
          },
          "metadata": {},
          "execution_count": 94
        },
        {
          "output_type": "display_data",
          "data": {
            "text/plain": [
              "<Figure size 640x480 with 1 Axes>"
            ],
            "image/png": "[encoded data removed]"
          },
          "metadata": {}
        }
      ]
    },
    {
      "cell_type": "markdown",
      "source": [
        "Implement linear regression, where the goal is to model the relationship between  input data (city population) and output data (profit).\n",
        "\n",
        "**Mathematical modeling :**\n",
        "\n",
        "f(x)= wx+b\n",
        "\n",
        "f(x) is the predicted value\n",
        "\n",
        "x is the input\n",
        "\n",
        "w the weight that controls how much the output y change when x change\n",
        "\n",
        "b the bias (output value when x=0)\n"
      ],
      "metadata": {
        "id": "-v4J4ADI44WL"
      }
    },
    {
      "cell_type": "markdown",
      "source": [
        "**Compute cost**\n",
        "\n",
        "Cost Function (Mean Squared Error): It measures how far off our predictions are from the actual values.\n",
        "\n"
      ],
      "metadata": {
        "id": "ki7V4cM08xKx"
      }
    },
    {
      "cell_type": "code",
      "source": [
        "def compute_cost(x,y,w,b):\n",
        "  m=len(x)\n",
        "  cost_sum=0\n",
        "  for i in range(m):\n",
        "    fx= w * x[i] + b\n",
        "    jw_b=(fx-y[i])**2\n",
        "    cost_sum+=jw_b\n",
        "\n",
        "  total_cost= (1/(2*m))*cost_sum\n",
        "  return total_cost\n",
        "\n"
      ],
      "metadata": {
        "id": "Kh6Yq7mE81Tl"
      },
      "execution_count": 73,
      "outputs": []
    },
    {
      "cell_type": "code",
      "source": [
        "# Example usage with initial values for w and b\n",
        "initial_w = 2\n",
        "initial_b = 1\n",
        "compute_cost(x_train,y_train,initial_w,initial_b)"
      ],
      "metadata": {
        "colab": {
          "base_uri": "https://localhost:8080/"
        },
        "id": "oIUEQdV-AwKe",
        "outputId": "fc9fdd30-7b13-4c46-fcc6-63e5cfe42080"
      },
      "execution_count": 54,
      "outputs": [
        {
          "output_type": "execute_result",
          "data": {
            "text/plain": [
              "np.float64(75.20338497891959)"
            ]
          },
          "metadata": {},
          "execution_count": 54
        }
      ]
    },
    {
      "cell_type": "markdown",
      "source": [
        "Use gradiant decent to find optimal values of w and b that will achieve lower cost function"
      ],
      "metadata": {
        "id": "giBLAV1n70t2"
      }
    },
    {
      "cell_type": "code",
      "source": [
        "def compute_gradient(x,y,w,b):\n",
        "  m=len(x)\n",
        "  dw = 0\n",
        "  db = 0\n",
        "  for i in range(m):\n",
        "    fx= w * x[i] + b\n",
        "    partial_db=fx-y[i]\n",
        "    partial_dw=(fx-y[i])*x[i]\n",
        "\n",
        "    dw+=partial_dw\n",
        "    db+=partial_db\n",
        "  dw*=1/m\n",
        "  db*=1/m\n",
        "  return dw,db\n",
        "\n",
        "\n"
      ],
      "metadata": {
        "id": "zjLx3m8JAizW"
      },
      "execution_count": 74,
      "outputs": []
    },
    {
      "cell_type": "code",
      "source": [
        "# Compute and display gradient with w initialized to zeroes\n",
        "initial_w = 0\n",
        "initial_b = 0\n",
        "\n",
        "compute_gradient(x_train, y_train, initial_w, initial_b)\n"
      ],
      "metadata": {
        "colab": {
          "base_uri": "https://localhost:8080/"
        },
        "id": "7bbBJO6xDygl",
        "outputId": "21873611-350f-4603-afdc-b656833e27bc"
      },
      "execution_count": 63,
      "outputs": [
        {
          "output_type": "execute_result",
          "data": {
            "text/plain": [
              "(np.float64(-65.32884974555672), np.float64(-5.83913505154639))"
            ]
          },
          "metadata": {},
          "execution_count": 63
        }
      ]
    },
    {
      "cell_type": "code",
      "source": [
        "# Compute and display cost and gradient with non-zero w\n",
        "test_w = 0.2\n",
        "test_b = 0.2\n",
        "compute_gradient(x_train, y_train, test_w, test_b)\n",
        "\n"
      ],
      "metadata": {
        "colab": {
          "base_uri": "https://localhost:8080/"
        },
        "id": "Foi20rHaGq2s",
        "outputId": "13b89e77-b915-4ea9-9669-c63b3862e18a"
      },
      "execution_count": 65,
      "outputs": [
        {
          "output_type": "execute_result",
          "data": {
            "text/plain": [
              "(np.float64(-47.41610118114434), np.float64(-4.007175051546391))"
            ]
          },
          "metadata": {},
          "execution_count": 65
        }
      ]
    },
    {
      "cell_type": "code",
      "source": [
        "def gradient_descent(x,y,w,b,cost_function,gradient_function,alpha,nbIteration):\n",
        "  for i in range(nbIteration):\n",
        "    dw,db=gradient_function(x,y,w,b)\n",
        "\n",
        "    w=w-alpha*dw\n",
        "    b=b-alpha*db\n",
        "\n",
        "    cost=cost_function(x,y,w,b)\n",
        "\n",
        "  return w,b,cost\n",
        "\n"
      ],
      "metadata": {
        "id": "rDts4gv2JX4i"
      },
      "execution_count": 68,
      "outputs": []
    },
    {
      "cell_type": "code",
      "source": [
        "initial_w = 0\n",
        "initial_b = 0\n",
        "nbIteration = 1500\n",
        "alpha= 0.01\n",
        "w,b,cost=gradient_descent(x_train,y_train,initial_w,initial_b,compute_cost,compute_gradient,alpha,nbIteration)\n",
        "print(\"w,b found by gradient descent :\", w,b)\n",
        "print(cost)"
      ],
      "metadata": {
        "colab": {
          "base_uri": "https://localhost:8080/"
        },
        "id": "wgOHSyaSNeAw",
        "outputId": "3fdb0e5a-8168-4e6b-df4a-4ae7bf068371"
      },
      "execution_count": 79,
      "outputs": [
        {
          "output_type": "stream",
          "name": "stdout",
          "text": [
            "w,b found by gradient descent : 1.166362350335582 -3.63029143940436\n",
            "4.483388256587725\n"
          ]
        }
      ]
    },
    {
      "cell_type": "code",
      "source": [
        "m=len(x_train)\n",
        "predicted=np.zeros(m)\n",
        "for i in range(m):\n",
        "  predicted[i]=w*x_train[i]+b"
      ],
      "metadata": {
        "id": "r_BJJQ2sP2CY"
      },
      "execution_count": 87,
      "outputs": []
    },
    {
      "cell_type": "code",
      "source": [
        "plt.plot(x_train,predicted)\n",
        "plt.scatter(x_train, y_train, marker='x', c='r')\n",
        "plt.title('City Population vs Profit')\n",
        "plt.xlabel('Population city  *10 000')\n",
        "plt.ylabel('Profit in 10 000$')\n"
      ],
      "metadata": {
        "colab": {
          "base_uri": "https://localhost:8080/",
          "height": 489
        },
        "id": "Q6rZYWBPQ0Q2",
        "outputId": "60f7175c-848d-4e95-a199-32853df6453c"
      },
      "execution_count": 92,
      "outputs": [
        {
          "output_type": "execute_result",
          "data": {
            "text/plain": [
              "Text(0, 0.5, 'Profit in 10 000$')"
            ]
          },
          "metadata": {},
          "execution_count": 92
        },
        {
          "output_type": "display_data",
          "data": {
            "text/plain": [
              "<Figure size 640x480 with 1 Axes>"
            ],
            "image/png": "[encoded data removed]"
          },
          "metadata": {}
        }
      ]
    },
    {
      "cell_type": "markdown",
      "source": [
        " Let's predict what the profit would be in areas of 35,000 and 70,000 people."
      ],
      "metadata": {
        "id": "MShriyfAR1Zn"
      }
    },
    {
      "cell_type": "code",
      "source": [
        "predict1=3.5*w+b\n",
        "print('For population = 35,000, we predict a profit of $%.2f' % (predict1*10000))\n",
        "\n",
        "predict2=7.0*w+b\n",
        "print('For population = 70,000, we predict a profit of $%.2f' % (predict2*10000))\n"
      ],
      "metadata": {
        "colab": {
          "base_uri": "https://localhost:8080/"
        },
        "id": "k7yEPnrYR0_l",
        "outputId": "f2c8f1e2-d58e-45b0-cdb9-b34f6575d77b"
      },
      "execution_count": 97,
      "outputs": [
        {
          "output_type": "stream",
          "name": "stdout",
          "text": [
            "For population = 35,000, we predict a profit of $4519.77\n",
            "For population = 70,000, we predict a profit of $45342.45\n"
          ]
        }
      ]
    }
  ]
}